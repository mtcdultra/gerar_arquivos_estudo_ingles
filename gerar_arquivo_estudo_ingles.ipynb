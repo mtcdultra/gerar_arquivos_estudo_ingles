{
 "cells": [
  {
   "cell_type": "code",
   "execution_count": 334,
   "metadata": {},
   "outputs": [],
   "source": [
    "from gtts import gTTS\n",
    "import translators as ts\n",
    "import translators.server as tss\n",
    "from reportlab.pdfgen import canvas\n",
    "from reportlab.lib.pagesizes import A4\n",
    "import os\n",
    "\n",
    "# https://pypi.org/project/translators/#language\n",
    "# https://studio.code.org/docs/ide/applab/expressions/createCanvas\n",
    "# https://docs.reportlab.com/reportlab/userguide/ch3_fonts/\n",
    "# https://www.blog.pythonlibrary.org/2021/09/15/getting-started-with-reportlabs-canvas/\n",
    "\n",
    "#Frances: https://lingua.com/pt/frances/leitura/#exercises"
   ]
  },
  {
   "cell_type": "code",
   "execution_count": 335,
   "metadata": {},
   "outputs": [],
   "source": [
    "titulo_musica = 'Coldplay - Paradise'\n",
    "letra_musica = \"\"\"\n",
    "When she was just a girl she expected the world\n",
    "But it flew away from her reach\n",
    "So she ran away in her sleep \n",
    "Dreamed of paradise \n",
    "Every time she closed her eyes\n",
    "When she was just a girl she expected the world\n",
    "And the bullets catch in her teeth\n",
    "Life goes on, it gets so heavy\n",
    "The wheel breaks the butterfly \n",
    "Every tear a waterfall\n",
    "In the night the stormy night she'll close her eyes\n",
    "In the night the stormy night away she'd fly\n",
    "She'd dream of paradise\n",
    "And so lying underneath those stormy skies\n",
    "I know the sun must set to rise\"\n",
    "This could be paradise\n",
    "\"\"\""
   ]
  },
  {
   "cell_type": "code",
   "execution_count": 336,
   "metadata": {},
   "outputs": [],
   "source": [
    "frase = ''\n",
    "texto_completo = []\n",
    "for palavra in letra_musica:\n",
    "    \n",
    "    if '\\n' not in palavra:\n",
    "        frase = frase + palavra\n",
    "    else:\n",
    "        if frase == '': continue\n",
    "        #print(frase)\n",
    "        texto_completo.append(frase)\n",
    "        texto_completo.append('\\n')\n",
    "        frase = ''\n",
    "\n",
    "    \n",
    "#print(texto_completo)"
   ]
  },
  {
   "cell_type": "code",
   "execution_count": 337,
   "metadata": {},
   "outputs": [],
   "source": [
    "def criar_underline(frase):\n",
    "    frase = frase.replace(' ', '_')\n",
    "    return frase\n",
    "\n",
    "def substituir(frase):\n",
    "    frase = frase.replace('’', \"'\")\n",
    "    return frase"
   ]
  },
  {
   "cell_type": "code",
   "execution_count": 338,
   "metadata": {},
   "outputs": [],
   "source": [
    "def criar_diretorio(diretorio_atual, titulo_musica):\n",
    "\n",
    "    nome_arquivo  = criar_underline(titulo_musica)\n",
    "    \n",
    "    try:\n",
    "        if not os.path.exists(os.path.join(diretorio_atual, nome_arquivo)):\n",
    "            os.makedirs(os.path.join(diretorio_atual, nome_arquivo))\n",
    "            print('Directory created')\n",
    "        else:\n",
    "            print('Directory already exists')\n",
    "    except OSError:\n",
    "        print('Error: Could not create directory')"
   ]
  },
  {
   "cell_type": "code",
   "execution_count": null,
   "metadata": {},
   "outputs": [],
   "source": [
    "# generate-mp3-file-translated\n",
    "from gtts import gTTS\n",
    "\n",
    "def replace_underline(phrase):\n",
    "    phrase = phrase.replace(' ', '_')\n",
    "    return phrase\n",
    "\n",
    "def substituir(phrase):\n",
    "    frase = frase.replace('’', \"'\")\n",
    "    return frase\n",
    "\n",
    "\n",
    "def generate_mp3_file(title, actual_path. lyrics, part):\n",
    "    # line or full\n",
    "    title = replace_underline(title)\n",
    "    #if part == 'line':\n",
    "\n",
    "    phrase = ''\n",
    "    s = gTTS(phrase)\n",
    "    \n",
    "    file_name = f'{title}_completo.mp3'            \n",
    "\n",
    "    if part == 'line':\n",
    "        ...\n",
    "        counter += 1\n",
    "        file_name = f'{title}_{counter:02}-{phrase}.mp3'   \n",
    "        s = gTTS(phrase)\n",
    "\n",
    "    path = os.path.join(actual_path,title)\n",
    "    s.save(os.path.join(path, file_name))\n",
    "\n",
    "    for letter in lyrics:\n",
    "        if '\\n' not in letter:\n",
    "            phrase = phrase + letter\n",
    "        else:\n",
    "            counter += 1\n",
    "            file_name = f'{title}_{counter:02}-{phrase}.mp3'   \n",
    "            s = gTTS(phrase)\n",
    "\n",
    "\n",
    "    return ..."
   ]
  },
  {
   "cell_type": "code",
   "execution_count": 339,
   "metadata": {},
   "outputs": [],
   "source": [
    "def gerar_audio_letra_musica(letra_musica, titulo_musica, diretorio_atual):\n",
    "    frase = ''\n",
    "    counter = 0\n",
    "    letra_musica = substituir(letra_musica)\n",
    "    for letra in letra_musica:\n",
    "        if '\\n' not in letra:\n",
    "            frase = frase + letra\n",
    "        else:\n",
    "            if frase == '': continue\n",
    "            counter += 1\n",
    "            s = gTTS(frase, lang='en', tld='com')\n",
    "            frase = criar_underline(frase)\n",
    "            titulo_musica = criar_underline(titulo_musica)\n",
    "            nome_arquivo = f'{titulo_musica}_{counter:02}-{frase}.mp3'            \n",
    "\n",
    "            caminho = os.path.join(diretorio_atual,titulo_musica)\n",
    "            s.save(os.path.join(caminho, nome_arquivo))\n",
    "\n",
    "            frase = ''\n",
    "    return 'Arquivos mp3 gerados'"
   ]
  },
  {
   "cell_type": "code",
   "execution_count": 340,
   "metadata": {},
   "outputs": [],
   "source": [
    "def gerar_audio_letra_musica_completo(letra_musica, titulo_musica, diretorio_atual):\n",
    "    s = gTTS(letra_musica)\n",
    "    titulo_musica = criar_underline(titulo_musica)\n",
    "    nome_arquivo = f'{titulo_musica}_completo.mp3'            \n",
    "\n",
    "    caminho = os.path.join(diretorio_atual,titulo_musica)\n",
    "    s.save(os.path.join(caminho, nome_arquivo))"
   ]
  },
  {
   "cell_type": "code",
   "execution_count": 341,
   "metadata": {},
   "outputs": [],
   "source": [
    "def gerar_traducao_letra(letra_musica, titulo_musica, diretorio_atual):\n",
    "    \n",
    "    width, height = A4\n",
    "\n",
    "    nome_arquivo = f'{criar_underline(titulo_musica)}.pdf'\n",
    "\n",
    "    caminho = os.path.join(diretorio_atual,criar_underline(titulo_musica))\n",
    "    documento_pdf = canvas.Canvas(os.path.join(caminho, nome_arquivo))\n",
    "\n",
    "    documento_pdf.drawCentredString(width / 2,800, titulo_musica )\n",
    "    documento_pdf.line(10, 780, width-10, 780)\n",
    "    \n",
    "    pos_y = 750\n",
    "    \n",
    "    frase = ''\n",
    "    counter = 0\n",
    "    \n",
    "    for letra in letra_musica:    \n",
    "        if '\\n' not in letra:\n",
    "            frase = frase + letra\n",
    "        else:\n",
    "            if frase == '': continue\n",
    "            counter += 1\n",
    "            texto = tss.google(frase, 'en', 'pt')            \n",
    "            documento_pdf.setFontSize(10)\n",
    "            documento_pdf.setFillColor('blue')\n",
    "            documento_pdf.drawString(10,pos_y,frase)            \n",
    "            pos_y -= 15\n",
    "\n",
    "            documento_pdf.setFillColor('black')\n",
    "            documento_pdf.drawString(10,pos_y,texto)            \n",
    "            pos_y -= 15\n",
    "\n",
    "            documento_pdf.drawString(10,pos_y,'')\n",
    "            pos_y -= 15\n",
    "\n",
    "            frase = ''\n",
    "\n",
    "            if pos_y < 15:\n",
    "                pos_y = 800\n",
    "                documento_pdf.showPage()\n",
    "\n",
    "    documento_pdf.save()\n",
    "    \n",
    "    return 'Arquivo PDF gerado'"
   ]
  },
  {
   "cell_type": "code",
   "execution_count": 342,
   "metadata": {},
   "outputs": [],
   "source": [
    "def gerar_letra_completa(letra_musica, titulo_musica, diretorio_atual):\n",
    "    \n",
    "    width, height = A4\n",
    "    frase = ''\n",
    "\n",
    "    nome_arquivo = f'{criar_underline(titulo_musica)}_completo.pdf'\n",
    "\n",
    "    caminho = os.path.join(diretorio_atual,criar_underline(titulo_musica))\n",
    "    documento_pdf = canvas.Canvas(os.path.join(caminho, nome_arquivo))\n",
    "\n",
    "    documento_pdf.drawCentredString(width / 2,800, titulo_musica )\n",
    "    documento_pdf.line(10, 780, width-10, 780)\n",
    "    \n",
    "    pos_y = 750\n",
    "    \n",
    "    for palavra in letra_musica:        \n",
    "        if '\\n' not in palavra:\n",
    "            frase = frase + palavra\n",
    "        else:\n",
    "            if frase == '': continue\n",
    "            documento_pdf.drawString(10,pos_y,frase)    \n",
    "            pos_y -= 15  \n",
    "            frase = ''\n",
    "\n",
    "            if pos_y < 15:\n",
    "                pos_y = 800\n",
    "                documento_pdf.showPage()\n",
    "    \n",
    "    documento_pdf.save()\n",
    "   \n",
    "    return 'Arquivo PDF gerado'"
   ]
  },
  {
   "cell_type": "code",
   "execution_count": 343,
   "metadata": {},
   "outputs": [],
   "source": [
    "def gerar_arquivos_estudo(letra_musica, titulo_musica, diretorio_atual):\n",
    "\n",
    "    criar_diretorio(diretorio_atual, titulo_musica)\n",
    "    gerar_audio_letra_musica(letra_musica, titulo_musica, diretorio_atual)\n",
    "    gerar_traducao_letra(letra_musica, titulo_musica, diretorio_atual)\n",
    "    gerar_audio_letra_musica_completo(letra_musica, titulo_musica, diretorio_atual)\n",
    "    gerar_letra_completa(letra_musica, titulo_musica, diretorio_atual)\n",
    "    \n",
    "    return 'Concluído'"
   ]
  },
  {
   "cell_type": "code",
   "execution_count": 344,
   "metadata": {},
   "outputs": [
    {
     "name": "stdout",
     "output_type": "stream",
     "text": [
      "Directory already exists\n"
     ]
    }
   ],
   "source": [
    "if __name__ == '__main__':\n",
    "\n",
    "    diretorio_atual = os.getcwd()\n",
    "    gerar_arquivos_estudo(letra_musica, titulo_musica, diretorio_atual)"
   ]
  }
 ],
 "metadata": {
  "kernelspec": {
   "display_name": ".venv_teste",
   "language": "python",
   "name": "python3"
  },
  "language_info": {
   "codemirror_mode": {
    "name": "ipython",
    "version": 3
   },
   "file_extension": ".py",
   "mimetype": "text/x-python",
   "name": "python",
   "nbconvert_exporter": "python",
   "pygments_lexer": "ipython3",
   "version": "3.10.7 (v3.10.7:6cc6b13308, Sep  5 2022, 14:02:52) [Clang 13.0.0 (clang-1300.0.29.30)]"
  },
  "orig_nbformat": 4,
  "vscode": {
   "interpreter": {
    "hash": "efe8369d83d5d0ffeaa2022d27cc866c9d633518e02a7680f911e9f53b0dadee"
   }
  }
 },
 "nbformat": 4,
 "nbformat_minor": 2
}
