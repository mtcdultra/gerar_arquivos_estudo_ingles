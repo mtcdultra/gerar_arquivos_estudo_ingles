{
 "cells": [
  {
   "cell_type": "code",
   "execution_count": 1,
   "metadata": {},
   "outputs": [
    {
     "name": "stderr",
     "output_type": "stream",
     "text": [
      "Using state Aveiro server backend.\n"
     ]
    }
   ],
   "source": [
    "from gtts import gTTS\n",
    "import translators as ts\n",
    "import translators.server as tss\n",
    "from reportlab.pdfgen import canvas\n",
    "from reportlab.lib.pagesizes import A4\n",
    "import os\n",
    "\n",
    "# https://pypi.org/project/translators/#language\n",
    "# https://studio.code.org/docs/ide/applab/expressions/createCanvas\n",
    "# https://docs.reportlab.com/reportlab/userguide/ch3_fonts/\n",
    "# https://www.blog.pythonlibrary.org/2021/09/15/getting-started-with-reportlabs-canvas/"
   ]
  },
  {
   "cell_type": "code",
   "execution_count": 148,
   "metadata": {},
   "outputs": [],
   "source": [
    "_titulo_musica = 'SAVE A PRAYER - Duran Duran'\n",
    "_letra_musica = \"\"\"\n",
    "You saw me standing by the wall,\n",
    "Corner of a main street,\n",
    "And the lights are flashing on your window sill.\n",
    "All alone ain't much fun,\n",
    "So you're looking for the thrill,\n",
    "And you know just what it takes and where to go.\n",
    "Don't say a prayer for me now\n",
    "Save it 'til the morning after\n",
    "No, don't say a prayer for me now\n",
    "Save it 'til the morning after\n",
    "Feel the breeze deep on the inside,\n",
    "Look you down into your well,\n",
    "If you can, you'll see the world in all his fire,\n",
    "Take a chance,\n",
    "Like all dreamers can't find another way,\n",
    "You don't have to dream it all, just live a day\n",
    "Don't say a prayer for me now\n",
    "Save it 'til the morning after\n",
    "No, don't say a prayer for me now\n",
    "Save it 'til the morning after\n",
    "Pretty looking road\n",
    "I try to hold the rising floods that fill my skin\n",
    "Don't ask me why I'll keep my promise\n",
    "Melt the ice\n",
    "And you wanted to dance so I asked you to dance\n",
    "But fear is in your soul\n",
    "Some people call it a one night stand\n",
    "But we can call it paradise\n",
    "\"\"\""
   ]
  },
  {
   "cell_type": "code",
   "execution_count": 149,
   "metadata": {},
   "outputs": [],
   "source": [
    "titulo_musica = 'US National Anthem'\n",
    "letra_musica = \"\"\"\n",
    "Oh, say can you see,\n",
    "by the dawn's early light,\n",
    "What so proudly we hailed\n",
    "at the twilight's last gleaming?\n",
    "Whose broad stripes and bright stars,\n",
    "through the perilous fight,\n",
    "O'er the ramparts we watched,\n",
    "were so gallantly streaming?\n",
    "And the rockets' red glare,\n",
    "the bombs bursting in air,\n",
    "Gave proof through the night\n",
    "that our flag was still there.\n",
    "O say, does that star-spangled\n",
    "banner yet wave\n",
    "O'er the land of the free\n",
    "and the home of the brave?\n",
    "\"\"\""
   ]
  },
  {
   "cell_type": "code",
   "execution_count": 150,
   "metadata": {},
   "outputs": [],
   "source": [
    "def criar_underline(frase):\n",
    "    frase = frase.replace(' ', '_')\n",
    "    return frase"
   ]
  },
  {
   "cell_type": "code",
   "execution_count": 151,
   "metadata": {},
   "outputs": [],
   "source": [
    "def criar_diretorio(diretorio_atual, titulo_musica):\n",
    "\n",
    "    nome_arquivo  = criar_underline(titulo_musica)\n",
    "    \n",
    "    try:\n",
    "        if not os.path.exists(os.path.join(diretorio_atual, nome_arquivo)):\n",
    "            os.makedirs(os.path.join(diretorio_atual, nome_arquivo))\n",
    "            print('Directory created')\n",
    "        else:\n",
    "            print('Directory already exists')\n",
    "    except OSError:\n",
    "        print('Error: Could not create directory')"
   ]
  },
  {
   "cell_type": "code",
   "execution_count": 152,
   "metadata": {},
   "outputs": [],
   "source": [
    "def gerar_audio_letra_musica(letra_musica, titulo_musica, diretorio_atual):\n",
    "    frase = ''\n",
    "    counter = 0\n",
    "    for letra in letra_musica:    \n",
    "        if '\\n' not in letra:\n",
    "            frase = frase + letra\n",
    "        else:\n",
    "            if frase == '': continue\n",
    "            counter += 1\n",
    "            s = gTTS(frase)\n",
    "            frase = criar_underline(frase)\n",
    "            titulo_musica = criar_underline(titulo_musica)\n",
    "            nome_arquivo = f'{titulo_musica}_{counter:02}-{frase}.mp3'            \n",
    "\n",
    "            caminho = os.path.join(diretorio_atual,titulo_musica)\n",
    "            s.save(os.path.join(caminho, nome_arquivo))\n",
    "\n",
    "\n",
    "            frase = ''\n",
    "            #caminho = ''\n",
    "    return 'Arquivos mp3 gerados'"
   ]
  },
  {
   "cell_type": "code",
   "execution_count": 153,
   "metadata": {},
   "outputs": [],
   "source": [
    "def gerar_traducao_letra(letra_musica, titulo_musica, diretorio_atual):\n",
    "    \n",
    "    width, height = A4\n",
    "\n",
    "    nome_arquivo = f'{criar_underline(titulo_musica)}.pdf'\n",
    "\n",
    "    caminho = os.path.join(diretorio_atual,criar_underline(titulo_musica))\n",
    "    documento_pdf = canvas.Canvas(os.path.join(caminho, nome_arquivo))\n",
    "\n",
    "    documento_pdf.drawCentredString(width / 2,800, titulo_musica )\n",
    "    documento_pdf.line(10, 780, width-10, 780)\n",
    "    pos_y = 750\n",
    "    \n",
    "    frase = ''\n",
    "    counter = 0\n",
    "    \n",
    "    for letra in letra_musica:    \n",
    "        if '\\n' not in letra:\n",
    "            frase = frase + letra\n",
    "        else:\n",
    "            if frase == '': continue\n",
    "            counter += 1\n",
    "            texto = tss.google(frase, 'en', 'pt')\n",
    "            documento_pdf.setFontSize(10)\n",
    "            \n",
    "\n",
    "            documento_pdf.drawString(10,pos_y,frase)\n",
    "            documento_pdf.setFillColor('black')\n",
    "            pos_y -= 15\n",
    "            documento_pdf.drawString(10,pos_y,texto)\n",
    "            documento_pdf.setFillColor('blue')\n",
    "            pos_y -= 15\n",
    "            documento_pdf.drawString(10,pos_y,'')\n",
    "            pos_y -= 15\n",
    "\n",
    "            frase = ''\n",
    "\n",
    "            if pos_y < 15:\n",
    "                pos_y = 800\n",
    "                documento_pdf.showPage()\n",
    "\n",
    "    documento_pdf.save()\n",
    "    \n",
    "    return 'Arquivo PDF gerado'"
   ]
  },
  {
   "cell_type": "code",
   "execution_count": 154,
   "metadata": {},
   "outputs": [],
   "source": [
    "def gerar_arquivos_estudo(letra_musica, titulo_musica, diretorio_atual):\n",
    "    criar_diretorio(diretorio_atual, titulo_musica)\n",
    "    gerar_audio_letra_musica(letra_musica, titulo_musica, diretorio_atual)\n",
    "    gerar_traducao_letra(letra_musica, titulo_musica, diretorio_atual)\n",
    "    return 'Concluído'"
   ]
  },
  {
   "cell_type": "code",
   "execution_count": 155,
   "metadata": {},
   "outputs": [
    {
     "name": "stdout",
     "output_type": "stream",
     "text": [
      "Directory already exists\n"
     ]
    }
   ],
   "source": [
    "if __name__ == '__main__':\n",
    "\n",
    "    diretorio_atual = os.getcwd()\n",
    "    gerar_arquivos_estudo(letra_musica, titulo_musica, diretorio_atual)"
   ]
  },
  {
   "cell_type": "code",
   "execution_count": null,
   "metadata": {},
   "outputs": [],
   "source": []
  },
  {
   "cell_type": "code",
   "execution_count": null,
   "metadata": {},
   "outputs": [],
   "source": []
  }
 ],
 "metadata": {
  "kernelspec": {
   "display_name": ".g_a_e_i",
   "language": "python",
   "name": "python3"
  },
  "language_info": {
   "codemirror_mode": {
    "name": "ipython",
    "version": 3
   },
   "file_extension": ".py",
   "mimetype": "text/x-python",
   "name": "python",
   "nbconvert_exporter": "python",
   "pygments_lexer": "ipython3",
   "version": "3.10.7"
  },
  "orig_nbformat": 4,
  "vscode": {
   "interpreter": {
    "hash": "c84cf6a7af9aaae2df70ba8b2d223b1b2032d0006d7df872cbef8ebb7dc4a640"
   }
  }
 },
 "nbformat": 4,
 "nbformat_minor": 2
}
